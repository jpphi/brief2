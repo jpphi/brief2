{
 "cells": [
  {
   "cell_type": "markdown",
   "metadata": {},
   "source": [
    "# **Les SGBD**"
   ]
  },
  {
   "cell_type": "markdown",
   "metadata": {},
   "source": [
    "## Généralitées"
   ]
  },
  {
   "cell_type": "raw",
   "metadata": {},
   "source": [
    "IL existe 3 types de base de données:  \n",
    "*Bases de données **relationnelles**  \n",
    "*Bases de données **Not only SQL**  \n",
    "*Bases de données **New SQL**"
   ]
  },
  {
   "cell_type": "markdown",
   "metadata": {},
   "source": [
    "### Bases de données **relationnelles**"
   ]
  },
  {
   "cell_type": "markdown",
   "metadata": {},
   "source": [
    "Les données sont organisées en lignes et colonnes. On accède à un enregistrements à l'aide du nom\n",
    "du nom de la table, du nom de la colonne, de la clé primaire (lorsqu'elle existe).\n",
    "Les données sont indépendante les unes des autres. On peut facilement controler la cohérences d'un jeux de\n",
    "données, éviter la redondance. La manipulations des données est simple et ce fait au moyen de requête SQL. Selon wikipedia, en 2010 la majorité des SGBD sont de type relationnel. La clef primaire assure l'unicité des enregistrement."
   ]
  },
  {
   "cell_type": "markdown",
   "metadata": {},
   "source": [
    "### Bases de données **Not only SQL** "
   ]
  },
  {
   "cell_type": "code",
   "execution_count": null,
   "metadata": {},
   "outputs": [],
   "source": []
  },
  {
   "cell_type": "markdown",
   "metadata": {},
   "source": [
    "### Bases de données **New SQL**"
   ]
  },
  {
   "cell_type": "markdown",
   "metadata": {},
   "source": []
  },
  {
   "cell_type": "markdown",
   "metadata": {},
   "source": [
    "\n",
    "les SGBD peuvent être:\n",
    "hiérarchiques:\n",
    "\n",
    "Relationnels:\n",
    "\n",
    "Orientés objet:\n",
    "\n",
    "Objet-relationnels:\n",
    "\n",
    "XML/RDF:\n",
    "\n",
    "Mixtes:\n",
    "\n",
    "\n",
    "\n",
    "Ils peuvent être distribués, centralisés ou embarqués et peuvent être spatiaux. Ils se différencient également par la taille des bases de données qu'ils peuvent manipuler10.\n",
    "  \n",
    "  \n",
    "  \n",
    "**Relationnel :**  \n",
    "**Les données sont organisées en lignes et colonnes**. On accède à un enregistrements à l'aide du nom  \n",
    "du nom de la table, du nom de la colonne, de la clé primaire (lorsqu'elle existe).  \n",
    "Les données sont indépendante les unes des autres. On peut facilement controler la cohérences d'un jeux de  \n",
    "données, éviter la redondance. La manipulations des données est simple et ce fait au moyen de requête SQL.\n",
    "Selon wikipedia, en 2010 la majorité des SGBD sont de type relationnel.\n",
    "La clef primaire assure l'unicité des enregistrement.\n",
    "  \n",
    "**Hiérarchique :**  \n",
    "Une base de données hiérarchique est une base de données dont le système de gestion lie les enregistrements  \n",
    "dans une structure arborescente où chaque enregistrement n'a qu'un seul possesseur. Elle a été utilisée dans  \n",
    "les premiers systèmes de gestion de base de données de type mainframe et a été inventée par la NASA.  \n",
    "  \n",
    "**Orienté objet et objet-relationnel :**  \n",
    "Les SGBD orientés objet sont un sujet de recherche depuis 1980, lorsque sont apparus les premiers langages de  \n",
    "programmation orientée objet. Ils sont destinés à offrir les fonctionnalités des SGBD à des langages orientés objet et permettre le stockage persistant des objets. Les objets sont manipulés en utilisant les possibilités natives des langages orientés objet et une interface de programmation permet d'exploiter les fonctionnalités du SGBD. Celui-ci est équipé des mécanismes nécessaires pour permettre l'utilisation des possibilités d'encapsulation, d'héritage et de polymorphisme des langages de programmation orientée objet12,13. Les SGBD objet-relationnel offrent à la fois les possibilités des SGBD orientés objet et ceux des SGBD relationnels14.\n",
    "\n",
    "A base de XML ou RDF :\n",
    "Une base de données XML Native (NXD en anglais) est une base de données qui s'appuie sur le modèle de données fourni par XML. Elle utilise typiquement des langages de requête XML comme XPath ou XQuery. Une extension possible est une base RDF, avec le langage d'interrogation SPARQL.\n",
    "\n",
    "Mixte :\n",
    "De tels SGBD utilisent les différents paradigmes évoqués ci-dessus.\n",
    "    centralisé ou distribué : Un SGBD est dit centralisé lorsque le logiciel contrôle l'accès à une base de données placée sur un ordinateur unique. Il est dit distribué lorsqu'il contrôle l'accès à des données qui sont dispersées entre plusieurs ordinateurs. Dans cette construction, un logiciel est placé sur chacun des ordinateurs, et les différents ordinateurs utilisent des moyens de communication pour coordonner les opérations. Le fait que les informations sont dispersées est caché à l'utilisateur, et celles-ci sont présentées comme si elles se trouvaient à une seule place15.\n",
    "    embarqué : Une base de données embarquée (anglais embedded) est un SGBD sous forme de composant logiciel qui peut être incorporé dans un logiciel applicatif. Contrairement à un SGBD client-serveur dans lequel un processus traite les requêtes, un modèle embarqué se compose de bibliothèques logicielles liées par liaison dynamique avec le logiciel qui utilise le SGBD. Dans ce type de SGBD, la base de données est souvent composée d'un fichier unique dont le format est identique quelles que soient les caractéristiques de l'ordinateur utilisé. Bien que le SGBD offre de nombreux avantages par rapport à un enregistrement sur fichier, ces derniers sont souvent préférés aux SGBD, qui ont la réputation d'être des logiciels lourds, encombrants et compliqués à installer16.\n",
    "    spatial : Les applications informatiques telles que les systèmes d'information géographiques et les outils de conception assistée par ordinateur utilisent des SGBD de type spatial. Ce type de logiciel permet le stockage d'informations géométriques telles que des points, des lignes, des surfaces et des volumes. Ils comportent des fonctions permettant de retrouver une information sur la base de caractéristiques géométriques telles que les coordonnées ou la dimension. Le langage de requête du SGBD permet la manipulation d'informations de géométrie tels que lignes, points ou polygones ; le SGBD met en œuvre les algorithmes et les structures de fichiers nécessaire2.\n",
    "\n"
   ]
  },
  {
   "cell_type": "markdown",
   "metadata": {},
   "source": [
    "\n",
    "\n",
    "**NoSQL** Not Only SQL est apparu en 2009  \n",
    "Les principaux sites du Web utilisent une base de données NoSQL (Google, Facebook, ...).  \n",
    "L'extensibilité requise et la grande quantité de données et de mises à jour rendent le modèle relationnel  \n",
    "inefficace.  \n",
    "Pourquoi NoSQL?\n",
    "Le modèle classique est inopérant face à certains types de traitement:\n",
    "*Indexation d'une quantité de documents.  \n",
    "*Sites à fort trafic.  \n",
    "*Données de taille variables selon les enregistrements.  \n",
    "*Réécritures fréquentes (le modèle classique prévoit plus de lectures que d'écritures).  \n",
    "*Extensibilité de la base.  \n",
    "*Quand la rapidité est importante.  \n",
    "*Meilleure productivité, c'est plus simple.  \n",
    "\n",
    "---\n",
    "\n",
    "  \n",
    "**SQL vs. NoSQL**  \n",
    "NoSQL est orienté colonnes: entendons par là que l'on peut ajouter des colonnes à chaque enregistrement aussi  \n",
    "facilement qu'on ajoute des lignes (par INSERT/UPDATE) dans le modèle relationnel.  \n",
    "**NoSQL n'a pas de schéma conceptuel** et peut évoluer avec le temps en nombre de colonnes comme de lignes.\n",
    "Mais qu'est-ce qui fait que NoSQL soit beaucoup plus rapide? Cela tient surtout à la façon dont on traite les  \n",
    "colonnes variables.\n",
    "Prenons un exemple. Supposons que l'on gère le trafic d'un aéroport avec la liste de tous les vols.  \n",
    "Une table classique aura la forme suivante:  \n",
    "Numéro de vol \tAvion \tPilote \tItinéraire  \n",
    "001 \tAirbus \tJoe \tNY-Delhi  \n",
    "  \n",
    "Mais on ne peut avoir une colonne pour le nom de chaque passager. Et les avions et les vols ont un nombre de  \n",
    "passagers très variable, la table contiendrait une quantité de trous et la recherche de données en serait  \n",
    "ralentie d'autant.  \n",
    "  \n",
    "Voilà comment le modèle relationnel classique traite le problème. On crée une table \"Passagers\" de la forme  \n",
    "suivante.  \n",
    "Numéro de vol \tNom passager  \n",
    "001 \tx  \n",
    "001 \ty  \n",
    "001 \tz  \n",
    "  \n",
    "La même table contiendra tous les vols et tous les noms de passagers. Il va de soi qu'accèder aux données  \n",
    "suppose le traitement d'une quantité d'informations avant de parvenir à l'information cherchée.  \n",
    "  \n",
    "Une ligne de table NoSQL quand à elle aura la forme suivante:  \n",
    "Numéro de vol \tAvion \tPilote \tItinéraire \t  \n",
    "001 \tAirbus \tJoe \tNY-Delhi \tx \ty \tz  \n",
    "  \n",
    "Le nombre de colonnes pour chaque vol dépend du nombre de passagers.  \n",
    "  \n",
    "Trouver un passager sur un vol sera évidemment beaucoup plus rapide dans un tel modèle mais surtout, modifier  \n",
    "les données sera infiniment plus facile.\n",
    "\n",
    "Les logiciels NoSQL  \n",
    "Percolator de Google. Succède à BigTable pour l'index du moteur.  \n",
    "MongoDB. Base de données orientée document. Utilisé par exemple par Sourceforge.  \n",
    "ElasticSearch. Même s'il se présente comme un système de stockage de documents et de recherche dans ces  \n",
    "documents, ES est en fait un SGBD et est assez similaire à MongoDB. Il est facile à déployer et utiliser et  \n",
    "mis en pratique dans de grands sites, d'eCommerce notamment.  \n",
    "Hadoop. Un framework implémentant MapReduce de Google, logiciel de traitement distribué de grandes quantités  \n",
    "de données. Le project inclut HBase, qui est un gestionnaire de base de données utilisant le framework et conçu  \n",
    "d'après BigTable.  \n",
    "Aerospike. Basé sur le modèle clé-valeur comme aussi Redis, prétend être cent fois plus rapide que tout autre  \n",
    "BD telle que MySQL. Utilise le langage Aerospike Query Language. (Licence Apache).  \n",
    "  \n",
    "**NewSQL**  \n",
    "\n",
    "Ce n'est pas un format mais une nouvelle approche dans la mise en oeuvre. Le nom originel était \"ScalableSQL\"  \n",
    "et son objectif est la gestion de données à hautes performances.  \n",
    "On reproche à NoSQL de sacrifier le principe ACID (Atomicity, Consistency, Isolation, Durability) , atomicité,  \n",
    "consistence, isolation, durabilité, donc d'offrir une moins grande sureté dans l'accès aux données.  \n",
    "Une base de données NewSQL conserve la structure classique en colonnes mais fait appel à différents procédés  \n",
    "pour conserver la rapidité même sur de larges volumes.  \n",
    "  \n",
    "VoltDB est un nouveau gestionnaire de BD basé sur NewSQL: il est conçu pour fonctionner entièrement en mémoire  \n",
    "ce qui lui procure une rapidité sans égale et rend Oracle obsolète.\n",
    "Base de donnée orientée graphe\n",
    "\n",
    "Conçue spécialement pour stocker et retrouver les relations entre objets ou personnes, elle est plus efficace que la base de données relationnelle (malgré le nom), pour faire des requêtes sur ces liens. Elle n'a pas de table.\n",
    "\n",
    "La structure de la base est composée de noeuds et propriétés, qui sont similaires aux objets des LOO, et d'arêtes, des données qui représentent un lien entre deux objets, avec une valeur qui représente le poids du lien. Le nombre de liens est variable et la base évolue sur deux niveaux, les objets ajoutés ou supprimés, et les liens.\n",
    "\n",
    "Neo4J est peut-être le meilleur outil disponible pour une telle base de données, même s'il y a d'autres logiciels propriétaires ici ou là, tel que Pregel de Google. Un article décrit en détail le concept de ce logiciel (anglais).\n",
    "\n",
    "Voir aussi...\n",
    "\n",
    "ArangoDB, pour les indécis.\n",
    "Parfait example d'outil NoSQL, il combine le modèle Document, Graphs et Clé/Valeur. L'article décrit les différents modèles ainsi que le modèle en table et le modèle relationnel classique pour comparaison.\n",
    "\n",
    "Cassandra de Facebook. Dérivé de BigTable.\n"
   ]
  },
  {
   "cell_type": "code",
   "execution_count": null,
   "metadata": {},
   "outputs": [],
   "source": []
  }
 ],
 "metadata": {
  "kernelspec": {
   "display_name": "Python 3",
   "language": "python",
   "name": "python3"
  },
  "language_info": {
   "codemirror_mode": {
    "name": "ipython",
    "version": 3
   },
   "file_extension": ".py",
   "mimetype": "text/x-python",
   "name": "python",
   "nbconvert_exporter": "python",
   "pygments_lexer": "ipython3",
   "version": "3.8.3"
  }
 },
 "nbformat": 4,
 "nbformat_minor": 4
}
